{
 "cells": [
  {
   "cell_type": "code",
   "execution_count": 445,
   "id": "1af84635",
   "metadata": {},
   "outputs": [],
   "source": [
    "import requests\n",
    "import yfinance as yf\n",
    "import requests\n",
    "import bs4 as bs\n",
    "\n",
    "class Tofu_reporter:\n",
    "    \n",
    "    def __init__(self,urlib01,urlcop,stocksyf):\n",
    "        self.urlib01=urlib01\n",
    "        self.urlcop=urlcop\n",
    "        self.stocksyf=stocksyf\n",
    "    def IB01_scraper(self):\n",
    "        data=requests.get(self.urlib01)\n",
    "        soup=bs.BeautifulSoup(data.text,'html.parser')\n",
    "        boxes=soup.find_all('span',class_='header-nav-data')\n",
    "        val=[float(v.text.replace('USD','').replace(',','.').strip()) for v in boxes if 'USD' in v.text]\n",
    "        return {'IB01':val[0]}\n",
    "    def IB01_scraper_v2(self):\n",
    "        data=requests.get(self.urlib01)\n",
    "        soup=bs.BeautifulSoup(data.text,'html.parser')\n",
    "        #divs=soup.find_all('div',id='overviewQuickstatsDiv')\n",
    "        td=soup.find_all('td',class_='line text')\n",
    "        #table=divs.find_all('tr')\n",
    "        \n",
    "        return {'IB01':float(td[0].text.replace('USD\\xa0',''))}\n",
    "                \n",
    "        \n",
    "    def get_usd_to_cop(self):\n",
    "        data=requests.get(self.urlcop)\n",
    "        soup=bs.BeautifulSoup(data.text,'html.parser')\n",
    "        #boxes=soup.find_all('span',class_='price')\n",
    "        boxes=soup.find_all('div',class_='priceDetail')\n",
    "        return {'USDTOCOP':float(boxes[0].text.replace('$','').replace('.','').replace(',','.'))}\n",
    "    def get_stonks_yf(self):\n",
    "        res_dict={}\n",
    "        for s in self.stocksyf:\n",
    "            comp=yf.Ticker(s)\n",
    "            try:\n",
    "                res_dict[s]=comp.info['currentPrice']\n",
    "            except:\n",
    "                pass\n",
    "        return res_dict\n",
    "    def get_custom_stonks(self):\n",
    "        url1='https://www.larepublica.co/indicadores-economicos/movimiento-accionario/pfbcolom'\n",
    "        url2='https://www.larepublica.co/indicadores-economicos/movimiento-accionario/geb'\n",
    "        urls=[url1,url2]\n",
    "        prefix=['PFBCOLOM','GEB']\n",
    "        res_dict={}\n",
    "        for url,name in zip(urls,prefix):\n",
    "            data=requests.get(url)\n",
    "            soup=bs.BeautifulSoup(data.text,'html.parser')\n",
    "            self.boxes=soup.find_all('div',class_='priceDetail')\n",
    "            res_dict[name]=float(self.boxes[0].text.replace('\\n','').replace('$','').replace('.','').strip())\n",
    "        return res_dict\n",
    "        \n",
    "        \n",
    "            \n",
    "        \n",
    "        \n",
    "        \n",
    "        \n",
    "        \n",
    "        \n",
    "        "
   ]
  },
  {
   "cell_type": "code",
   "execution_count": 446,
   "id": "6bbffb36",
   "metadata": {},
   "outputs": [
    {
     "data": {
      "text/plain": [
       "{'IB01': 102.08}"
      ]
     },
     "execution_count": 446,
     "metadata": {},
     "output_type": "execute_result"
    }
   ],
   "source": [
    "url1='https://www.morningstar.co.uk/uk/etf/snapshot/snapshot.aspx?id=0P0001GY9H'\n",
    "url2='https://www.larepublica.co/indicadores-economicos/mercado-cambiario/dolar'\n",
    "leeloo=Tofu_reporter(url1,url2,['PFE'])\n",
    "leeloo.IB01_scraper_v2()\n",
    "    "
   ]
  },
  {
   "cell_type": "code",
   "execution_count": 444,
   "id": "63a9c09d",
   "metadata": {},
   "outputs": [
    {
     "data": {
      "text/plain": [
       "102.08"
      ]
     },
     "execution_count": 444,
     "metadata": {},
     "output_type": "execute_result"
    }
   ],
   "source": [
    "td"
   ]
  },
  {
   "cell_type": "code",
   "execution_count": 1,
   "id": "591d0d30",
   "metadata": {},
   "outputs": [],
   "source": [
    "import os\n",
    "from twilio.rest import Client\n",
    "class whatsapp_sender:\n",
    "    def __init__(self,account_sid,auth_token):\n",
    "        \n",
    "        self.account_sid=account_sid\n",
    "        self.auth_token=auth_token\n",
    "    \n",
    "    def login(self):\n",
    "        self.client=Client(self.account_sid,self.auth_token)\n",
    "    def send_message(self,sender,receiver,message):\n",
    "        \n",
    "        try:\n",
    "            message=self.client.messages.create(\n",
    "                                        body=message,\n",
    "                                        from_=f'whatsapp:{sender}',\n",
    "                                        to=f'whatsapp:{receiver}'   \n",
    "                                     )\n",
    "        except Exception as e:\n",
    "            \n",
    "            print(e)\n",
    "    \n",
    "        \n",
    "        \n",
    "        \n",
    "        "
   ]
  },
  {
   "cell_type": "code",
   "execution_count": 454,
   "id": "db1dee12",
   "metadata": {},
   "outputs": [],
   "source": [
    "import os\n",
    "import sqlite3\n",
    "\n",
    "conn=sqlite3.connect('history_stocks.db')\n",
    "cur=conn.cursor()\n",
    "\n",
    "query=\"\"\"CREATE TABLE IF NOT EXISTS base (stock TEXT,value DOUBLE,cant INT,trm  DOUBLE,time DATETIME) \"\"\"\n",
    "cur.execute(query)\n",
    "conn.commit()\n"
   ]
  },
  {
   "cell_type": "code",
   "execution_count": 279,
   "id": "7aae75f8",
   "metadata": {},
   "outputs": [
    {
     "name": "stdout",
     "output_type": "stream",
     "text": [
      "['GEB,30,COP\\n', 'PFBCOLOM,15,COP\\n', 'PFE,7,USD\\n', 'IB01,2,USD\\n']\n"
     ]
    }
   ],
   "source": [
    "with open('quant.txt','r') as file:\n",
    "    content=file.readlines()\n",
    "print(content)\n",
    "    "
   ]
  },
  {
   "cell_type": "code",
   "execution_count": 455,
   "id": "836ee269",
   "metadata": {},
   "outputs": [],
   "source": [
    "import time\n",
    "import os\n",
    "import sqlite3\n",
    "import pandas as pd\n",
    "class manage_db:\n",
    "    def __init__(self,maindb,tablename,txtfile,,postgres_con_str):\n",
    "        self.maindb_path=maindb\n",
    "        self.tablename=tablename\n",
    "        self.txt_filename=txtfile\n",
    "        self.postgres_con_str=postgres_con_str\n",
    "        \n",
    "    def db_connect(self):\n",
    "        self.conn=sqlite3.connect(self.maindb_path)\n",
    "        self.cur=self.conn.cursor()\n",
    "        \n",
    "    def info_txt_file(self):\n",
    "        with open(self.txt_filename,'r') as file:\n",
    "            content=file.readlines()\n",
    "        content=[i.replace('\\n','') for i in content]\n",
    "        stock_dict={}\n",
    "        for s in content:\n",
    "            name,cant,currency=s.split(',')\n",
    "            stock_dict[name]={'quant':cant,'curr':currency}\n",
    "        return stock_dict\n",
    "    def insert_data(self,api_dict,trm):\n",
    "        stock_db_dict=self.info_txt_file()\n",
    "        \n",
    "        trm_raw=trm['USDTOCOP']\n",
    "        current_date=time.time()\n",
    "        for s in stock_db_dict:\n",
    "            \n",
    "            cant=stock_db_dict[s]['quant']\n",
    "            if stock_db_dict[s]['curr']=='USD':\n",
    "                value=api_dict[s]*trm_raw\n",
    "            else:\n",
    "                value=api_dict[s]\n",
    "            \n",
    "            \n",
    "            \n",
    "            \n",
    "            query=f\"\"\"INSERT INTO {self.tablename} (stock,value,cant,trm,time) \n",
    "                      VALUES ('{s}',{value},{cant},{trm_raw},{current_date})\"\"\"\n",
    "            self.cur.execute(query)\n",
    "            self.conn.commit()\n",
    "    def get_info(self):\n",
    "        \n",
    "        query=\"\"\"SELECT * FROM base\"\"\"\n",
    "        df=pd.read_sql(query,self.conn)\n",
    "        return df\n",
    "    def get_changes(self):\n",
    "        df=self.get_info()\n",
    "        #print(df)\n",
    "        df['fecha']=df['time'].apply(lambda x:time.strftime('%Y-%m-%d %H:%M:%S', time.localtime(float(x))))\n",
    "        df['total']=df['value']*df['cant']\n",
    "        dates=df['fecha'].unique()\n",
    "        print(dates)\n",
    "        show_df=pd.DataFrame()\n",
    "        if len(dates)>1:\n",
    "        \tlast_date=dates[-2]\n",
    "        \tactual_date=dates[-1]\n",
    "        \tprint('last',last_date,'actual',actual_date)\n",
    "        \t#print(df)\n",
    "        \tfor stock in df['stock'].unique():\n",
    "        \t\tactual_val=df[(df['stock']==stock)&(df['fecha']==actual_date)]['total'].values[0]\n",
    "        \t\tlast_val=df[(df['stock']==stock)&(df['fecha']==last_date)]['total'].values[0]\n",
    "        \t\tshow_df.loc[stock,'diff']=round(actual_val-last_val,1)\n",
    "        \t\tshow_df.loc[stock,'var']=round(100*((actual_val-last_val)/last_val),1)\n",
    "        \treturn show_df\n",
    "        \n",
    "        else:\n",
    "        \tshow_df.loc[0,'warning']='waiting for more data'\n",
    "        \treturn show_df\n",
    "    def postgres_connect(self):\n",
    "     \tself.engine=create_engine(self.postgres_con_str)\n",
    "     \tself.conn=self.engine.raw_connection()\n",
    "     \tself.cur=self.conn.cursor()\n",
    "            \n",
    "        \n",
    "        \n",
    "        \n",
    "        \n",
    "        \n",
    "        \n",
    "        \n",
    "    \n",
    "        \n",
    "        \n",
    "        "
   ]
  },
  {
   "cell_type": "code",
   "execution_count": 457,
   "id": "e1af6c46",
   "metadata": {},
   "outputs": [
    {
     "name": "stdout",
     "output_type": "stream",
     "text": [
      "['2022-08-14 19:43:44' '2022-08-14 19:44:04']\n",
      "last 2022-08-14 19:43:44 actual 2022-08-14 19:44:04\n"
     ]
    }
   ],
   "source": [
    "from tabulate import tabulate\n",
    "account_sid = ''\n",
    "auth_token = ''\n",
    "sender=''\n",
    "receiver=''\n",
    "whatsapp=whatsapp_sender(account_sid,auth_token)\n",
    "\n",
    "con_str=''\n",
    "url1='https://www.morningstar.co.uk/uk/etf/snapshot/snapshot.aspx?id=0P0001GY9H'\n",
    "url2='https://www.larepublica.co/indicadores-economicos/mercado-cambiario/dolar'\n",
    "leeloo=Tofu_reporter(url1,url2,['PFE'])\n",
    "\n",
    "db_path='history_stocks.db'\n",
    "db_table='base'\n",
    "txt_file='quant.txt'\n",
    "\n",
    "db_obj=manage_db(db_path,db_table,txt_file,con_str)\n",
    "#db_obj.db_connect()\n",
    "db_obj.postgres_connect()\n",
    "\n",
    "\n",
    "if __name__==\"__main__\":\n",
    "    whatsapp.login()\n",
    "    api_stock_dict={}\n",
    "    api_stock_dict.update(leeloo.get_custom_stonks())\n",
    "    api_stock_dict.update(leeloo.get_stonks_yf())\n",
    "    api_stock_dict.update(leeloo.IB01_scraper_v2())\n",
    "    \n",
    "    \n",
    "    trm=leeloo.get_usd_to_cop()\n",
    "    \n",
    "    db_obj.insert_data(api_stock_dict,trm)\n",
    "    \n",
    "    diff_df=db_obj.get_changes()\n",
    "    whatsapp.send_message(sender,receiver,tabulate(diff_df, tablefmt=\"pipe\", headers=\"keys\"))\n",
    "    "
   ]
  },
  {
   "cell_type": "code",
   "execution_count": null,
   "id": "108dc450",
   "metadata": {},
   "outputs": [],
   "source": []
  }
 ],
 "metadata": {
  "kernelspec": {
   "display_name": "Python 3 (ipykernel)",
   "language": "python",
   "name": "python3"
  },
  "language_info": {
   "codemirror_mode": {
    "name": "ipython",
    "version": 3
   },
   "file_extension": ".py",
   "mimetype": "text/x-python",
   "name": "python",
   "nbconvert_exporter": "python",
   "pygments_lexer": "ipython3",
   "version": "3.8.10"
  }
 },
 "nbformat": 4,
 "nbformat_minor": 5
}
